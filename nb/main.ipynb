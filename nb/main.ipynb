{
 "cells": [
  {
   "cell_type": "code",
   "execution_count": 59,
   "metadata": {
    "ExecuteTime": {
     "end_time": "2021-09-11T04:10:43.457831Z",
     "start_time": "2021-09-11T04:10:43.449021Z"
    },
    "editable": true,
    "slideshow": {
     "slide_type": ""
    },
    "tags": []
   },
   "outputs": [],
   "source": [
    "#export\n",
    "import sys\n",
    "if __name__ == '__main__': sys.path.append('..')\n",
    "import download_youtube_subtitle.common as common\n",
    "from pprint import pprint\n",
    "def pj(*args, **kargs):\n",
    "    if common.IN_JUPYTER:\n",
    "        pprint(*args, **kargs)\n",
    "        \n",
    "from functools import partial\n",
    "import sys\n",
    "\n",
    "perr = partial(print, \"ERR: \")"
   ]
  },
  {
   "cell_type": "code",
   "execution_count": 60,
   "metadata": {
    "ExecuteTime": {
     "end_time": "2021-09-11T04:10:43.599940Z",
     "start_time": "2021-09-11T04:10:43.459997Z"
    }
   },
   "outputs": [],
   "source": [
    "#export\n",
    "import requests\n",
    "import socket\n",
    "socket.setdefaulttimeout(5.)"
   ]
  },
  {
   "cell_type": "code",
   "execution_count": 61,
   "metadata": {
    "ExecuteTime": {
     "end_time": "2021-09-11T04:10:43.621484Z",
     "start_time": "2021-09-11T04:10:43.602405Z"
    },
    "scrolled": true
   },
   "outputs": [],
   "source": [
    "#export\n",
    "from pytube import YouTube\n",
    "def get_tracks_title(videoID):\n",
    "    yt = YouTube(f\"http://youtube.com/watch?v={videoID}\")\n",
    "    yt.streams\n",
    "    return yt.caption_tracks, yt.title, yt"
   ]
  },
  {
   "cell_type": "code",
   "execution_count": 62,
   "metadata": {
    "ExecuteTime": {
     "end_time": "2021-09-11T04:10:45.063616Z",
     "start_time": "2021-09-11T04:10:43.623454Z"
    }
   },
   "outputs": [
    {
     "name": "stdout",
     "output_type": "stream",
     "text": [
      "YouTube Rewind 2019: For the Record | #YouTubeRewind [<Caption lang=\"Arabic\" code=\"ar\">, <Caption lang=\"Chinese (Hong Kong)\" code=\"zh-HK\">]\n"
     ]
    }
   ],
   "source": [
    "_captions,_title, yt =get_tracks_title(\"2lAe1cqCOXo\")\n",
    "print(_title, _captions[:2])"
   ]
  },
  {
   "cell_type": "code",
   "execution_count": 63,
   "metadata": {},
   "outputs": [],
   "source": [
    "# _captions[0].xml_captions"
   ]
  },
  {
   "cell_type": "code",
   "execution_count": 64,
   "metadata": {
    "ExecuteTime": {
     "end_time": "2021-09-11T04:10:45.069438Z",
     "start_time": "2021-09-11T04:10:45.066561Z"
    }
   },
   "outputs": [],
   "source": [
    "#export\n",
    "# add tlang=zh-Hans to baseUrl\n",
    "# will get translation\n",
    "\n",
    "# getting track info\n",
    "\n",
    "class CaptionNotAvailableException(Exception):\n",
    "    pass \n",
    "import re\n",
    "import json\n",
    "import urllib"
   ]
  },
  {
   "cell_type": "code",
   "execution_count": 83,
   "metadata": {
    "ExecuteTime": {
     "end_time": "2021-09-11T04:10:45.088552Z",
     "start_time": "2021-09-11T04:10:45.071361Z"
    }
   },
   "outputs": [],
   "source": [
    "#export\n",
    "# dealing with transcript\n",
    "import math\n",
    "from functools import partial\n",
    "import sys\n",
    "from xml.dom.minidom import parseString\n",
    "import html\n",
    "def parseTranscript(transcript, remove_font_tag=True):\n",
    "    dom = parseString(transcript)\n",
    "    texts = dom.getElementsByTagName('p')\n",
    "    \n",
    "    _eachTxt = partial(eachTxt, remove_font_tag=remove_font_tag)\n",
    "    texts = list(map( _eachTxt, texts,))\n",
    "    return texts \n",
    "\n",
    "def each_sent(o, file=sys.stdout):\n",
    "    if len(o['text'].strip()) == 0 and len(o.get('translate_text', \"\").strip()) == 0:\n",
    "        return\n",
    "    start = o['start']\n",
    "    start = float(start)\n",
    "    start /= 1000\n",
    "    minute = math.floor(start/60)\n",
    "    second = math.floor(start%60)\n",
    "    p = partial(print, file=file)\n",
    "    p(f\"---------{minute:02d}:{second:02d}----------\")\n",
    "    p(o['text'])\n",
    "    translate_text = o.get('translate_text', None)\n",
    "    if translate_text:\n",
    "        p(translate_text)\n",
    "   "
   ]
  },
  {
   "cell_type": "code",
   "execution_count": 66,
   "metadata": {
    "ExecuteTime": {
     "end_time": "2021-09-11T04:10:45.095393Z",
     "start_time": "2021-09-11T04:10:45.090732Z"
    }
   },
   "outputs": [],
   "source": [
    "#export\n",
    "# dealing with valid filename\n",
    "# https://github.com/django/django/blob/master/django/utils/text.py\n",
    "import re\n",
    "def get_valid_filename(s):\n",
    "    \"\"\"\n",
    "    Return the given string converted to a string that can be used for a clean\n",
    "    filename. Remove leading and trailing spaces; convert other spaces to\n",
    "    underscores; and remove anything that is not an alphanumeric, dash,\n",
    "    underscore, or dot.\n",
    "    >>> get_valid_filename(\"john's portrait in 2004.jpg\")\n",
    "    'johns_portrait_in_2004.jpg'\n",
    "    \"\"\"\n",
    "    s = str(s).strip().replace(' ', '_')\n",
    "    return re.sub(r'(?u)[^-\\w.]', '', s)"
   ]
  },
  {
   "cell_type": "code",
   "execution_count": 67,
   "metadata": {
    "ExecuteTime": {
     "end_time": "2021-09-11T04:10:45.112464Z",
     "start_time": "2021-09-11T04:10:45.097621Z"
    }
   },
   "outputs": [],
   "source": [
    "#export\n",
    "import copy\n",
    "def merge_subtitle(subtitle, subtitle_cn):\n",
    "    \"\"\"\n",
    "    merge subtitle_cn(traslation) to subtitle(origin).\n",
    "    cc and translated cc aren't always align, \n",
    "    I found at least in cn and ja, translated cc are less than cc\n",
    "    see  videoID='HSz7Q4YnQ_M'\n",
    "    cc and translated cc aren't always equal in time see wgNiGj1nGYE for translation ja\n",
    "    \"\"\"\n",
    "    subtitle = copy.deepcopy(subtitle) # original transcript\n",
    "    subtitle_cn = copy.deepcopy(subtitle_cn) # translation script\n",
    "    \n",
    "    TRANSLATE_TEXT=\"translate_text\"\n",
    "    TEXT=\"text\"\n",
    "    START=\"start\"\n",
    "    \n",
    "    # NOTE not sure how to merge them properly\n",
    "    \n",
    "    # indexer for subtitle \n",
    "    sub_p = 0\n",
    "    sub_p_cn = 0\n",
    "    \n",
    "    while sub_p < len(subtitle) and sub_p_cn < len(subtitle_cn):\n",
    "        \n",
    "        sub = subtitle[sub_p]\n",
    "        sub_cn = subtitle_cn[sub_p_cn]\n",
    "        \n",
    "        if TRANSLATE_TEXT not in sub: sub[TRANSLATE_TEXT] = \"\"\n",
    "        \n",
    "        if float(sub[START]) >= float(sub_cn[START]) :\n",
    "        # sub goes first, being chased by sub_cn\n",
    "        \n",
    "            # for separating the sentence\n",
    "            if len(sub[TRANSLATE_TEXT]) != 0: sub[TRANSLATE_TEXT] += \"\\n\"\n",
    "            \n",
    "            sub[TRANSLATE_TEXT] +=  sub_cn[TEXT]\n",
    "            \n",
    "            sub_p_cn += 1\n",
    "            \n",
    "        else :\n",
    "            sub_p += 1\n",
    "            \n",
    "    # add empty field for subitle\n",
    "    while sub_p < len(subtitle):\n",
    "        assert sub_p_cn == len(subtitle_cn)\n",
    "        \n",
    "        sub = subtitle[sub_p]\n",
    "        if TRANSLATE_TEXT not in sub: sub[TRANSLATE_TEXT] = \"\"\n",
    "        sub_p += 1\n",
    "        \n",
    "    # add the rest of subtitle_cn to the last one of subtitle\n",
    "    while sub_p_cn < len(subtitle_cn):\n",
    "        assert sub_p == len(subtitle)\n",
    "        \n",
    "        sub = subtitle[-1]\n",
    "        \n",
    "        if TRANSLATE_TEXT not in sub: sub[TRANSLATE_TEXT] = \"\"\n",
    "            \n",
    "        if len(sub[TRANSLATE_TEXT]) != 0: sub[TRANSLATE_TEXT] += \"\\n\"\n",
    "        \n",
    "        sub[TRANSLATE_TEXT] += sub_cn[TEXT]\n",
    "        sub_p_cn += 1\n",
    "        \n",
    "    assert sub_p == len(subtitle)\n",
    "    assert sub_p_cn == len(subtitle_cn)\n",
    "        \n",
    "    return subtitle"
   ]
  },
  {
   "cell_type": "code",
   "execution_count": 68,
   "metadata": {
    "ExecuteTime": {
     "end_time": "2021-09-11T04:10:45.124127Z",
     "start_time": "2021-09-11T04:10:45.114912Z"
    }
   },
   "outputs": [],
   "source": [
    "#export\n",
    "# dealing with xml.dom\n",
    "import re\n",
    "import xml\n",
    "def eachTxt(txt, remove_font_tag):\n",
    "    start = txt.attributes.get(\"t\").value\n",
    "    dur = '0' if txt.attributes.get(\"d\") is None \\\n",
    "        else txt.attributes.get(\"d\").value \n",
    "    if txt.firstChild is None:\n",
    "        txt = \"\"\n",
    "    elif isinstance(txt.firstChild, xml.dom.minidom.Text):\n",
    "        txt = txt.firstChild.data\n",
    "    elif txt.firstChild.tagName == 's':\n",
    "        ret_txt = \"\"\n",
    "        for sTxt in txt.childNodes:\n",
    "            if sTxt.firstChild: ret_txt += sTxt.firstChild.data\n",
    "        txt = ret_txt\n",
    "    \n",
    "    \n",
    "    txt = html.unescape((txt))\n",
    "    if remove_font_tag:\n",
    "        txt =   re.sub(r'</?font[^>]*>','', txt)\n",
    "        \n",
    "    return {\n",
    "        \"start\":start, \n",
    "        \"dur\": dur,\n",
    "        \"text\": txt\n",
    "    }"
   ]
  },
  {
   "cell_type": "code",
   "execution_count": 69,
   "metadata": {
    "ExecuteTime": {
     "end_time": "2021-09-11T04:10:46.402139Z",
     "start_time": "2021-09-11T04:10:45.125940Z"
    }
   },
   "outputs": [
    {
     "name": "stdout",
     "output_type": "stream",
     "text": [
      "<DOM Element: p at 0x7ff0b6a3fa60> {'start': '140', 'dur': '4570', 'text': 'hi this is Louis from Rossville repair'}\n",
      "<DOM Element: p at 0x7ff0b6a3f550> {'start': '2960', 'dur': '1750', 'text': '\\n'}\n",
      "<DOM Element: p at 0x7ff0b6a3f0d0> {'start': '2970', 'dur': '3869', 'text': 'group in this video in a couple of'}\n",
      "<DOM Element: p at 0x7ff0b68f1040> {'start': '4700', 'dur': '2139', 'text': '\\n'}\n",
      "<DOM Element: p at 0x7ff0b68f10d0> {'start': '4710', 'dur': '4469', 'text': \"minutes you're going to watch me as I\"}\n",
      "<DOM Element: p at 0x7ff0b68f15e0> {'start': '6829', 'dur': '2350', 'text': '\\n'}\n"
     ]
    }
   ],
   "source": [
    "#test_export\n",
    "# here to check parsing dom\n",
    "videoID=\"SVdQ-2njL6U\" # test [Fix issue where translation is not True by marosoft · Pull Request #3 · xsthunder/download-youtube-subtitle](https://github.com/xsthunder/download-youtube-subtitle/pull/3)\n",
    "captionTracks, title, yt = get_tracks_title(videoID)\n",
    "# baseUrl = captionTracks[0]['baseUrl']\n",
    "# transcript = requests.get(baseUrl)\n",
    "# dom = parseString(transcript.text)\n",
    "dom = parseString(captionTracks[0].xml_captions)\n",
    "texts = dom.getElementsByTagName('p')\n",
    "\n",
    "_eachTxt = partial(eachTxt, remove_font_tag=True)\n",
    "for i,t in enumerate(texts):\n",
    "    if i>5:break\n",
    "    print(t, _eachTxt(t))"
   ]
  },
  {
   "cell_type": "code",
   "execution_count": 70,
   "metadata": {
    "ExecuteTime": {
     "end_time": "2021-09-11T04:10:46.414321Z",
     "start_time": "2021-09-11T04:10:46.404085Z"
    }
   },
   "outputs": [
    {
     "data": {
      "text/plain": [
       "''"
      ]
     },
     "execution_count": 70,
     "metadata": {},
     "output_type": "execute_result"
    }
   ],
   "source": [
    "_eachTxt(texts[1])['text'].strip()"
   ]
  },
  {
   "cell_type": "code",
   "execution_count": 71,
   "metadata": {
    "ExecuteTime": {
     "end_time": "2021-09-11T04:10:46.429415Z",
     "start_time": "2021-09-11T04:10:46.416090Z"
    }
   },
   "outputs": [
    {
     "data": {
      "text/plain": [
       "0"
      ]
     },
     "execution_count": 71,
     "metadata": {},
     "output_type": "execute_result"
    }
   ],
   "source": [
    "o = _eachTxt(texts[1])\n",
    "len(o['text'].strip()) == 0 and len(o.get('translate_text', \"\").strip())"
   ]
  },
  {
   "cell_type": "code",
   "execution_count": 72,
   "metadata": {
    "ExecuteTime": {
     "end_time": "2021-09-11T04:10:46.485164Z",
     "start_time": "2021-09-11T04:10:46.431652Z"
    },
    "scrolled": true
   },
   "outputs": [
    {
     "name": "stdout",
     "output_type": "stream",
     "text": [
      "<?xml version=\"1.0\" ?>\n",
      "<timedtext format=\"3\">\n",
      "\t\n",
      "\n",
      "\t<head>\n",
      "\t\t\n",
      "\n",
      "\t\t<ws id=\"0\"/>\n",
      "\t\t\n",
      "\n",
      "\t\t<ws id=\"1\" mh=\"2\" ju=\"0\" sd=\"3\"/>\n",
      "\t\t\n",
      "\n",
      "\t\t<wp id=\"0\"/>\n",
      "\t\t\n",
      "\n",
      "\t\t<wp id=\"1\" ap=\"6\" ah=\"20\" av=\"100\" rc=\"2\" cc=\"40\"/>\n",
      "\t\t\n",
      "\n",
      "\t</head>\n",
      "\t\n",
      "\n",
      "\t<body>\n",
      "\t\t\n",
      "\n",
      "\t\t<w t=\"0\" id=\"1\" wp=\"1\" ws=\"1\"/>\n",
      "\t\t\n",
      "\n",
      "\t\t<p t=\"140\" d=\"4570\" w=\"1\">\n",
      "\t\t\t<s ac=\"252\">hi</s>\n",
      "\t\t\t<s t=\"1000\" ac=\"201\"> this</s>\n",
      "\t\t\t<s t=\"1480\" ac=\"201\"> is</s>\n",
      "\t\t\t<s t=\"1540\" ac=\"146\"> Louis</s>\n",
      "\t\t\t<s t=\"1989\" ac=\"245\"> from</s>\n",
      "\t\t\t<s t=\"2200\" ac=\"217\"> Rossville</s>\n",
      "\t\t\t<s t=\"2410\" ac=\"227\"> repair</s>\n",
      "\t\t</p>\n",
      "\t\t\n",
      "\n",
      "\t\t<p t=\"2960\" d=\"1750\" w=\"1\" a=\"1\">\n",
      "</p>\n",
      "\t\t\n",
      "\n",
      "\t\t<p t=\"2970\" d=\"3869\" w=\"1\">\n",
      "\t\t\t<s ac=\"239\">group</s>\n",
      "\t\t\t<s t=\"179\" ac=\"187\"> in</s>\n",
      "\t\t\t<s t=\"360\" ac=\"252\"> this</s>\n",
      "\t\t\t<s t=\"810\" ac=\"208\"> video</s>\n",
      "\t\t\t<s t=\"1110\" ac=\"235\"> in</s>\n",
      "\t\t\t<s t=\"1349\" ac=\"252\"> a</s>\n",
      "\t\t\t<s t=\"1440\" ac=\"157\"> couple</s>\n",
      "\t\t\t<s t=\"1710\" ac=\"252\"> of</s>\n",
      "\t\t</p>\n",
      "\t\t\n",
      "\n",
      "\t\t<p t=\"4700\" d=\"2139\" w=\"1\" a=\"1\">\n",
      "</p>\n",
      "\t\t\n",
      "\n",
      "\t\t<p t=\"4710\" d=\"4469\" w=\"1\">\n",
      "\t\t\t<s ac=\"236\">minutes</s>\n",
      "\t\t\t<s t=\"270\" ac=\"252\"> you\n"
     ]
    }
   ],
   "source": [
    "print(dom.toprettyxml()[:1000])"
   ]
  },
  {
   "cell_type": "code",
   "execution_count": 79,
   "metadata": {},
   "outputs": [
    {
     "name": "stdout",
     "output_type": "stream",
     "text": [
      "zh-Hans\n",
      "zh-Hant\n",
      "en-US\n",
      "fr\n",
      "de\n",
      "id\n",
      "pt\n",
      "ru\n",
      "es\n",
      "th\n",
      "vi\n"
     ]
    }
   ],
   "source": [
    "for o in list(yt.captions.keys()):\n",
    "    print(o.code)"
   ]
  },
  {
   "cell_type": "code",
   "execution_count": 80,
   "metadata": {},
   "outputs": [
    {
     "data": {
      "text/plain": [
       "<Caption lang=\"Vietnamese\" code=\"vi\">"
      ]
     },
     "execution_count": 80,
     "metadata": {},
     "output_type": "execute_result"
    }
   ],
   "source": [
    "yt.captions['vi']"
   ]
  },
  {
   "cell_type": "code",
   "execution_count": 90,
   "metadata": {
    "ExecuteTime": {
     "end_time": "2021-09-11T04:10:48.720832Z",
     "start_time": "2021-09-11T04:10:46.487098Z"
    },
    "editable": true,
    "slideshow": {
     "slide_type": ""
    },
    "tags": []
   },
   "outputs": [
    {
     "data": {
      "text/plain": [
       "[{'start': '0',\n",
       "  'dur': '5056',\n",
       "  'text': 'Once upon a time, two twins traveled together throughout the universe.',\n",
       "  'translate_text': '从前，有一对双胞胎结伴在宇宙中旅行'},\n",
       " {'start': '5398',\n",
       "  'dur': '2398',\n",
       "  'text': 'But one day, their path was blocked,',\n",
       "  'translate_text': '但有一天，他们前路遇阻'},\n",
       " {'start': '7988',\n",
       "  'dur': '2801',\n",
       "  'text': 'and they were separated by an unknown god.',\n",
       "  'translate_text': '被一个未知的神明生生分离'},\n",
       " {'start': '11745', 'dur': '804', 'text': 'Aether! ', 'translate_text': '空！'}]"
      ]
     },
     "execution_count": 90,
     "metadata": {},
     "output_type": "execute_result"
    }
   ],
   "source": [
    "#test_export\n",
    "#here to break up the procss\n",
    "# videoID=\"Zd14s2WW-Tc\"\n",
    "videoID=\"wgNiGj1nGYE\"\n",
    "captionTracks, title, yt = get_tracks_title(videoID)\n",
    "subtitle = parseTranscript(yt.captions['en-US'].xml_captions)\n",
    "subtitle_cn = parseTranscript(yt.captions['zh-Hans'].xml_captions)\n",
    "merged_subtitle = merge_subtitle(subtitle, subtitle_cn)\n",
    "merged_subtitle[:4]"
   ]
  },
  {
   "cell_type": "code",
   "execution_count": 119,
   "metadata": {},
   "outputs": [
    {
     "name": "stdout",
     "output_type": "stream",
     "text": [
      "<Caption lang=\"Chinese (Traditional)\" code=\"zh-Hant\">\n"
     ]
    },
    {
     "data": {
      "text/plain": [
       "'code=\"zh-Hant\" name=\"Chinese (Traditional)\"'"
      ]
     },
     "execution_count": 119,
     "metadata": {},
     "output_type": "execute_result"
    }
   ],
   "source": [
    "#export\n",
    "def format_caption(caption):\n",
    "    name = caption.name\n",
    "    pattern = 'code='\n",
    "    code = caption.__repr__()\n",
    "    code = code[code.find(pattern):-1]\n",
    "    ret = f\"{code:8s} name=\\\"{name}\\\"\"\n",
    "    if 'a.' in code:\n",
    "        ret += ' automatically generated by youtube'\n",
    "    return ret\n"
   ]
  },
  {
   "cell_type": "code",
   "execution_count": 113,
   "metadata": {},
   "outputs": [
    {
     "data": {
      "text/plain": [
       "'code=\"zh-Hans'"
      ]
     },
     "execution_count": 113,
     "metadata": {},
     "output_type": "execute_result"
    }
   ],
   "source": [
    "print(captionTracks[1])\n",
    "format_caption(captionTracks[1])\n",
    "pattern = 'code='\n",
    "code = caption.__repr__()\n",
    "code = code[code.find(pattern):-1]\n",
    "code"
   ]
  },
  {
   "cell_type": "code",
   "execution_count": 120,
   "metadata": {
    "ExecuteTime": {
     "end_time": "2021-09-11T04:10:48.777305Z",
     "start_time": "2021-09-11T04:10:48.757528Z"
    }
   },
   "outputs": [
    {
     "name": "stdout",
     "output_type": "stream",
     "text": [
      "save to  Version_1.5_Special_ProgramGenshin_Impact.txt\n"
     ]
    }
   ],
   "source": [
    "#test_export\n",
    "#here test output\n",
    "output_file = get_valid_filename(f'{title}.txt')\n",
    "with open(output_file , 'w', encoding='UTF-8') as f:\n",
    "    print(\"save to \", output_file)\n",
    "    for sent in subtitle:\n",
    "        each_sent(sent, file=f)"
   ]
  },
  {
   "cell_type": "code",
   "execution_count": null,
   "metadata": {
    "ExecuteTime": {
     "end_time": "2021-09-11T03:41:15.852322Z",
     "start_time": "2021-09-11T03:41:15.840940Z"
    }
   },
   "outputs": [],
   "source": []
  },
  {
   "cell_type": "code",
   "execution_count": 121,
   "metadata": {
    "ExecuteTime": {
     "end_time": "2021-09-11T04:10:48.785533Z",
     "start_time": "2021-09-11T04:10:48.780686Z"
    }
   },
   "outputs": [],
   "source": [
    "#export\n",
    "def parseVideoID(videoID):\n",
    "    if 'youtu' in videoID:\n",
    "        videoID = re.search('v=([^&]+)', videoID).group(1)\n",
    "        \n",
    "    video_link = f'https://www.youtube.com/watch?v={videoID}'\n",
    "    return videoID, video_link"
   ]
  },
  {
   "cell_type": "code",
   "execution_count": 122,
   "metadata": {
    "ExecuteTime": {
     "end_time": "2021-09-11T04:10:48.795416Z",
     "start_time": "2021-09-11T04:10:48.788954Z"
    }
   },
   "outputs": [],
   "source": [
    "#test_export\n",
    "videoID = 'https://www.youtube.com/watch?v=wgNiGj1nGYE'\n",
    "videoID, video_link= parseVideoID(videoID)\n",
    "videoID = 'wgNiGj1nGYE'\n",
    "assert (videoID, video_link) == parseVideoID(videoID)"
   ]
  },
  {
   "cell_type": "code",
   "execution_count": 202,
   "metadata": {
    "ExecuteTime": {
     "end_time": "2021-09-11T04:10:48.824853Z",
     "start_time": "2021-09-11T04:10:48.797595Z"
    },
    "editable": true,
    "slideshow": {
     "slide_type": ""
    },
    "tags": []
   },
   "outputs": [],
   "source": [
    "#export\n",
    "import fire\n",
    "import sys\n",
    "from functools import partial\n",
    "import json\n",
    "import re\n",
    "from typing import Union, Optional\n",
    "def main(\n",
    "    videoID:str, \n",
    "    translation:str=None, \n",
    "    caption_num:int=0, \n",
    "    caption_num_second:int=None,\n",
    "    output_file:str=None, \n",
    "    save_to_file:bool=True, \n",
    "    to_json:bool=False, \n",
    "    remove_font_tag:bool=True, \n",
    "    ):\n",
    "    \"\"\"\n",
    "    download youtube closed caption(subtitles) by videoID\n",
    "    \n",
    "    Examples:\n",
    "    dl-youtube-cc -h # to see this helpful infomation\n",
    "    dl-youtube-cc wgNiGj1nGYE --translation 'ru' # use russian translation, see ./lang_code for full list\n",
    "    dl-youtube-cc wgNiGj1nGYE --caption_num=1 --translation 'ru' # choose the caption num for original transcript and use russian translation,\n",
    "    dl-youtube-cc wgNiGj1nGYE --caption_num=1 --caption_num_second=2 # manually choose the original and translation transcript from available caption list\n",
    "    dl-youtube-cc wgNiGj1nGYE --translation False # without translation\n",
    "    dl-youtube-cc wgNiGj1nGYE --save_to_file=False # print stuff in console\n",
    "    dl-youtube-cc wgNiGj1nGYE --output_file='test.txt' # print stuff in named file\n",
    "    dl-youtube-cc wgNiGj1nGYE --to_json=True # print stuff in json\n",
    "    \n",
    "    Argument:\n",
    "    videoID : the video link or the id of youtube video, the string after 'v=' in a youtube video link\n",
    "    translation : which will be displayed as original transcript, default to None\n",
    "    caption_num : choose the caption which will be displayed as original transcript\n",
    "    caption_num_second : will surpass translation option, choose the caption which will be displayed as translation transcript\n",
    "    output_file : default to video title\n",
    "    save_to_file : pass False to print in console\n",
    "    to_json: pass True to export caption to json\n",
    "    remove_font_tag: remove font tag\n",
    "    \"\"\"    \n",
    "    videoID, video_link = parseVideoID(videoID)\n",
    "    \n",
    "    captionTracks, title, yt = get_tracks_title(videoID)\n",
    "    \n",
    "    info = partial(print, \"INFO: \")\n",
    "    \n",
    "    info(\"available caption(s):\")\n",
    "    for i, caption in enumerate(captionTracks):\n",
    "        mark = '⭕'\n",
    "        if caption_num == i:mark = '✔ as original'\n",
    "        if translation and translation in format_caption(caption): mark = '✔ as translation' \n",
    "        if caption_num_second == i: mark = '✔ as translation' \n",
    "        notice = f\"#{i:<2} {mark}\"\n",
    "        info(notice, format_caption(caption))\n",
    "    info(\"given by --caption_num default to 0 as original\")\n",
    "    if caption_num_second is None: info(\"you may use --caption_num_second intead of --translation to spefify translation transript\")\n",
    "    \n",
    "    _parseTranscript = partial(parseTranscript, remove_font_tag=remove_font_tag)\n",
    "    subtitle = _parseTranscript(captionTracks[caption_num].xml_captions, )\n",
    "    sent_subtitle = subtitle\n",
    "    \n",
    "    output_json = { \"original\": subtitle }\n",
    "    \n",
    "    if translation or caption_num_second:\n",
    "        if translation:\n",
    "            translation_caption=yt.captions[translation]\n",
    "            # baseUrl = caption['baseUrl'] + '&tlang=' + translation\n",
    "        if caption_num_second: \n",
    "            translation_caption=captionTracks[caption_num_second]\n",
    "            # translation = False\n",
    "            \n",
    "            # baseUrl = get_caption_url(caption_num_second)\n",
    "        # transcript = requests.get(baseUrl)\n",
    "        subtitle_cn = _parseTranscript(translation_caption.xml_captions)\n",
    "        merged_subtitle = merge_subtitle(subtitle, subtitle_cn)\n",
    "        sent_subtitle = merged_subtitle\n",
    "        output_json = {\n",
    "                 \"original\": subtitle,\n",
    "                 \"translation\":subtitle_cn,\n",
    "                # note that it's not guaranteed to be aligned.\n",
    "                \"merged\": merged_subtitle,\n",
    "            }\n",
    "        \n",
    "    ######################## save to file\n",
    "            \n",
    "    f = sys.stdout\n",
    "    if save_to_file :\n",
    "        if output_file is None: \n",
    "            if to_json:\n",
    "                output_file = get_valid_filename(f'{title}.json')\n",
    "            else:\n",
    "                output_file = get_valid_filename(f'{title}.txt')\n",
    "        f = open(output_file , 'w', encoding='UTF-8')\n",
    "        info(\"Save to \", output_file )\n",
    "    \n",
    "    if to_json:\n",
    "        json.dump(\n",
    "            output_json\n",
    "             , f, indent=4, ensure_ascii=False)\n",
    "        return \n",
    "    \n",
    "    pfile = partial(print, file=f)\n",
    "    pfile(\"video_link\\t\", video_link)\n",
    "    pfile(\"original\\t\", format_caption(captionTracks[caption_num]))\n",
    "    if translation: pfile(\"translation\\t\",translation)\n",
    "    if caption_num_second: pfile(\"translation\\t\", format_caption(captionTracks[caption_num_second]))\n",
    "    for sent in sent_subtitle:\n",
    "        each_sent(sent, file=f)\n",
    "        pfile()"
   ]
  },
  {
   "cell_type": "code",
   "execution_count": 174,
   "metadata": {
    "ExecuteTime": {
     "end_time": "2021-09-11T04:10:50.128428Z",
     "start_time": "2021-09-11T04:10:48.831831Z"
    }
   },
   "outputs": [
    {
     "name": "stdout",
     "output_type": "stream",
     "text": [
      "INFO:  available caption(s):\n",
      "INFO:  #0  ✔ as original code=\"a.en\" name=\"English (auto-generated)\" automatically generated by youtube\n",
      "INFO:  given by --caption_num default to 0 as original\n",
      "INFO:  you may use --caption_num_second intead of --translation to spefify translation transript\n",
      "INFO:  Save to  a.txt\n"
     ]
    }
   ],
   "source": [
    "#test_export\n",
    "# see [Fix issue where translation is not True by marosoft · Pull Request #3 · xsthunder/download-youtube-subtitle](https://github.com/xsthunder/download-youtube-subtitle/pull/3)\n",
    "main(\"SVdQ-2njL6U\", translation=False, output_file=f'a.txt')"
   ]
  },
  {
   "cell_type": "code",
   "execution_count": 175,
   "metadata": {
    "ExecuteTime": {
     "end_time": "2021-09-11T04:10:48.829935Z",
     "start_time": "2021-09-11T04:10:48.826526Z"
    }
   },
   "outputs": [],
   "source": [
    "#export\n",
    "from functools import partial\n",
    "def set_fire(fn):\n",
    "    if common.IN_TRAVIS or common.IN_JUPYTER:\n",
    "        return \n",
    "    fire.Fire(fn)\n",
    "if __name__ == '__main__':\n",
    "    if common.IN_TRAVIS or common.IN_JUPYTER:\n",
    "        pass\n",
    "    else :\n",
    "        set_fire(main)\n",
    "fire_main = partial(set_fire, main)"
   ]
  },
  {
   "cell_type": "code",
   "execution_count": 176,
   "metadata": {
    "ExecuteTime": {
     "end_time": "2021-09-11T04:10:52.042376Z",
     "start_time": "2021-09-11T04:10:50.130519Z"
    }
   },
   "outputs": [
    {
     "name": "stdout",
     "output_type": "stream",
     "text": [
      "INFO:  available caption(s):\n",
      "INFO:  #0  ✔ as original code=\"zh-Hans\" name=\"Chinese (Simplified)\"\n",
      "INFO:  #1  ⭕ code=\"zh-Hant\" name=\"Chinese (Traditional)\"\n",
      "INFO:  #2  ⭕ code=\"en-US\" name=\"English (United States)\"\n",
      "INFO:  #3  ⭕ code=\"fr\" name=\"French\"\n",
      "INFO:  #4  ⭕ code=\"de\" name=\"German\"\n",
      "INFO:  #5  ⭕ code=\"id\" name=\"Indonesian\"\n",
      "INFO:  #6  ⭕ code=\"pt\" name=\"Portuguese\"\n",
      "INFO:  #7  ⭕ code=\"ru\" name=\"Russian\"\n",
      "INFO:  #8  ⭕ code=\"es\" name=\"Spanish\"\n",
      "INFO:  #9  ⭕ code=\"th\" name=\"Thai\"\n",
      "INFO:  #10 ⭕ code=\"vi\" name=\"Vietnamese\"\n",
      "INFO:  given by --caption_num default to 0 as original\n",
      "INFO:  you may use --caption_num_second intead of --translation to spefify translation transript\n",
      "INFO:  Save to  fr.txt\n"
     ]
    }
   ],
   "source": [
    "#test_export\n",
    "main(\"wgNiGj1nGYE\", translation='fr', output_file=\"fr.txt\")"
   ]
  },
  {
   "cell_type": "code",
   "execution_count": 177,
   "metadata": {
    "ExecuteTime": {
     "end_time": "2021-09-11T04:10:52.047943Z",
     "start_time": "2021-09-11T04:10:52.044657Z"
    }
   },
   "outputs": [
    {
     "name": "stdout",
     "output_type": "stream",
     "text": [
      "2  1\n"
     ]
    }
   ],
   "source": [
    "print(f\"{2:<2}\", 1)"
   ]
  },
  {
   "cell_type": "code",
   "execution_count": 178,
   "metadata": {
    "ExecuteTime": {
     "end_time": "2021-09-11T04:10:53.776593Z",
     "start_time": "2021-09-11T04:10:52.050216Z"
    }
   },
   "outputs": [
    {
     "name": "stdout",
     "output_type": "stream",
     "text": [
      "INFO:  available caption(s):\n",
      "INFO:  #0  ✔ as original code=\"zh-Hans\" name=\"Chinese (Simplified)\"\n",
      "INFO:  #1  ⭕ code=\"zh-Hant\" name=\"Chinese (Traditional)\"\n",
      "INFO:  #2  ⭕ code=\"en-US\" name=\"English (United States)\"\n",
      "INFO:  #3  ⭕ code=\"fr\" name=\"French\"\n",
      "INFO:  #4  ⭕ code=\"de\" name=\"German\"\n",
      "INFO:  #5  ⭕ code=\"id\" name=\"Indonesian\"\n",
      "INFO:  #6  ⭕ code=\"pt\" name=\"Portuguese\"\n",
      "INFO:  #7  ✔ as translation code=\"ru\" name=\"Russian\"\n",
      "INFO:  #8  ⭕ code=\"es\" name=\"Spanish\"\n",
      "INFO:  #9  ⭕ code=\"th\" name=\"Thai\"\n",
      "INFO:  #10 ⭕ code=\"vi\" name=\"Vietnamese\"\n",
      "INFO:  given by --caption_num default to 0 as original\n",
      "INFO:  Save to  zh_ru.txt\n"
     ]
    }
   ],
   "source": [
    "#test_export\n",
    "main(\"wgNiGj1nGYE\", caption_num=0, caption_num_second=7, output_file=\"zh_ru.txt\")"
   ]
  },
  {
   "cell_type": "code",
   "execution_count": 179,
   "metadata": {
    "ExecuteTime": {
     "end_time": "2021-09-11T04:10:55.461393Z",
     "start_time": "2021-09-11T04:10:53.779029Z"
    }
   },
   "outputs": [
    {
     "name": "stdout",
     "output_type": "stream",
     "text": [
      "INFO:  available caption(s):\n",
      "INFO:  #0  ✔ as original code=\"zh-Hans\" name=\"Chinese (Simplified)\"\n",
      "INFO:  #1  ⭕ code=\"zh-Hant\" name=\"Chinese (Traditional)\"\n",
      "INFO:  #2  ⭕ code=\"en-US\" name=\"English (United States)\"\n",
      "INFO:  #3  ✔ as translation code=\"fr\" name=\"French\"\n",
      "INFO:  #4  ⭕ code=\"de\" name=\"German\"\n",
      "INFO:  #5  ⭕ code=\"id\" name=\"Indonesian\"\n",
      "INFO:  #6  ⭕ code=\"pt\" name=\"Portuguese\"\n",
      "INFO:  #7  ⭕ code=\"ru\" name=\"Russian\"\n",
      "INFO:  #8  ⭕ code=\"es\" name=\"Spanish\"\n",
      "INFO:  #9  ⭕ code=\"th\" name=\"Thai\"\n",
      "INFO:  #10 ⭕ code=\"vi\" name=\"Vietnamese\"\n",
      "INFO:  given by --caption_num default to 0 as original\n",
      "INFO:  Save to  0,3-zh,fr.txt\n"
     ]
    }
   ],
   "source": [
    "#test_export\n",
    "main(\"wgNiGj1nGYE\", caption_num=0, caption_num_second=3, output_file=\"0,3-zh,fr.txt\")"
   ]
  },
  {
   "cell_type": "code",
   "execution_count": 203,
   "metadata": {
    "ExecuteTime": {
     "end_time": "2021-09-11T04:10:57.673518Z",
     "start_time": "2021-09-11T04:10:55.463796Z"
    },
    "editable": true,
    "slideshow": {
     "slide_type": ""
    },
    "tags": []
   },
   "outputs": [
    {
     "name": "stdout",
     "output_type": "stream",
     "text": [
      "INFO:  available caption(s):\n",
      "INFO:  #0  ✔ as original code=\"zh-Hans\" name=\"Chinese (Simplified)\"\n",
      "INFO:  #1  ⭕ code=\"zh-Hant\" name=\"Chinese (Traditional)\"\n",
      "INFO:  #2  ✔ as translation code=\"en-US\" name=\"English (United States)\"\n",
      "INFO:  #3  ⭕ code=\"fr\" name=\"French\"\n",
      "INFO:  #4  ⭕ code=\"de\" name=\"German\"\n",
      "INFO:  #5  ⭕ code=\"id\" name=\"Indonesian\"\n",
      "INFO:  #6  ⭕ code=\"pt\" name=\"Portuguese\"\n",
      "INFO:  #7  ⭕ code=\"ru\" name=\"Russian\"\n",
      "INFO:  #8  ⭕ code=\"es\" name=\"Spanish\"\n",
      "INFO:  #9  ⭕ code=\"th\" name=\"Thai\"\n",
      "INFO:  #10 ⭕ code=\"vi\" name=\"Vietnamese\"\n",
      "INFO:  given by --caption_num default to 0 as original\n",
      "INFO:  you may use --caption_num_second intead of --translation to spefify translation transript\n",
      "INFO:  Save to  0,en.txt\n"
     ]
    }
   ],
   "source": [
    "#test_export\n",
    "main(\"wgNiGj1nGYE\", caption_num=0, translation=\"en-US\", to_json=True, output_file=\"0,en.txt\")"
   ]
  },
  {
   "cell_type": "code",
   "execution_count": 181,
   "metadata": {},
   "outputs": [
    {
     "name": "stdout",
     "output_type": "stream",
     "text": [
      "Automatic pdb calling has been turned ON\n"
     ]
    }
   ],
   "source": [
    "%pdb on "
   ]
  },
  {
   "cell_type": "code",
   "execution_count": 182,
   "metadata": {
    "ExecuteTime": {
     "end_time": "2021-09-11T04:10:59.757236Z",
     "start_time": "2021-09-11T04:10:57.675837Z"
    },
    "editable": true,
    "slideshow": {
     "slide_type": ""
    },
    "tags": []
   },
   "outputs": [
    {
     "name": "stdout",
     "output_type": "stream",
     "text": [
      "INFO:  available caption(s):\n",
      "INFO:  #0  ⭕ code=\"a.en\" name=\"English (auto-generated)\" automatically generated by youtube\n",
      "INFO:  #1  ✔ as original code=\"en.j3PyPqV-e1s\" name=\"English - CC (English)\"\n",
      "INFO:  given by --caption_num default to 0 as original\n",
      "INFO:  you may use --caption_num_second intead of --translation to spefify translation transript\n",
      "INFO:  Save to  Chinese_Politics__Authoritarian_Regimes__Professor_Rory_Truex__Talks_at_Google.txt\n"
     ]
    }
   ],
   "source": [
    "#test_export\n",
    "#fix eachTxt, allow txt.firstChild = None\n",
    "main('https://www.youtube.com/watch?v=Zd14s2WW-Tc', caption_num=1)"
   ]
  },
  {
   "cell_type": "code",
   "execution_count": 198,
   "metadata": {
    "ExecuteTime": {
     "end_time": "2021-09-11T04:11:01.362870Z",
     "start_time": "2021-09-11T04:10:59.759392Z"
    }
   },
   "outputs": [
    {
     "name": "stdout",
     "output_type": "stream",
     "text": [
      "ERR:  can't not retrive caption,   for detail\n",
      "ERR:  can't not retrive caption,   for detail\n"
     ]
    },
    {
     "data": {
      "text/plain": [
       "True"
      ]
     },
     "execution_count": 198,
     "metadata": {},
     "output_type": "execute_result"
    }
   ],
   "source": [
    "#test_export\n",
    "import sure\n",
    "from pytube import exceptions\n",
    "main.when.called_with('HSz7Q4YnQ_M').throw(exceptions.AgeRestrictedError) # fix when cc's length and translated cc's don't match\n",
    "main.when.called_with('https://www.youtube.com/watch?v=EozTm6ZVf1U', caption_num=1).throw(exceptions.AgeRestrictedError)"
   ]
  },
  {
   "cell_type": "code",
   "execution_count": 185,
   "metadata": {
    "ExecuteTime": {
     "end_time": "2021-09-11T04:11:04.631135Z",
     "start_time": "2021-09-11T04:11:02.987807Z"
    },
    "deletable": false,
    "editable": false
   },
   "outputs": [
    {
     "name": "stdout",
     "output_type": "stream",
     "text": [
      "INFO:  available caption(s):\n",
      "INFO:  #0  ✔ as original code=\"en\" name=\"English\"\n",
      "INFO:  #1  ⭕ code=\"a.en\" name=\"English (auto-generated)\" automatically generated by youtube\n",
      "INFO:  given by --caption_num default to 0 as original\n",
      "INFO:  you may use --caption_num_second intead of --translation to spefify translation transript\n",
      "INFO:  Save to  Dont_Lose_Your_Accent__Learning_Accents_-_TREVOR_NOAH_Pay_Back_The_Funny.txt\n"
     ]
    }
   ],
   "source": [
    "#test_export\n",
    "main('MhCEdIqFCck') # fix title with quotes \""
   ]
  },
  {
   "cell_type": "code",
   "execution_count": null,
   "metadata": {
    "ExecuteTime": {
     "end_time": "2021-09-11T04:11:06.448089Z",
     "start_time": "2021-09-11T04:11:04.633238Z"
    },
    "deletable": false,
    "editable": true,
    "slideshow": {
     "slide_type": ""
    },
    "tags": []
   },
   "outputs": [],
   "source": [
    "\n"
   ]
  },
  {
   "cell_type": "code",
   "execution_count": 187,
   "metadata": {
    "ExecuteTime": {
     "end_time": "2021-09-11T04:11:06.453680Z",
     "start_time": "2021-09-11T04:11:06.450579Z"
    }
   },
   "outputs": [],
   "source": [
    "#test_export\n",
    "def read_all_content(f):\n",
    "    with open(f, 'r', encoding='UTF-8') as f:\n",
    "        ret = ''.join(f.readlines())\n",
    "    return ret"
   ]
  },
  {
   "cell_type": "code",
   "execution_count": 188,
   "metadata": {
    "ExecuteTime": {
     "end_time": "2021-09-11T04:11:08.421517Z",
     "start_time": "2021-09-11T04:11:06.455635Z"
    },
    "deletable": false,
    "editable": false
   },
   "outputs": [
    {
     "name": "stdout",
     "output_type": "stream",
     "text": [
      "INFO:  available caption(s):\n",
      "INFO:  #0  ✔ as original code=\"a.en\" name=\"English (auto-generated)\" automatically generated by youtube\n",
      "INFO:  given by --caption_num default to 0 as original\n",
      "INFO:  you may use --caption_num_second intead of --translation to spefify translation transript\n",
      "INFO:  Save to  no_font_tag.txt\n"
     ]
    }
   ],
   "source": [
    "#test_export\n",
    "f = 'no_font_tag.txt'\n",
    "main('tktbVrTFUkc', output_file=f) # remove font tag\n",
    "assert '<font' not in read_all_content(f)\n",
    "assert '</font>' not in read_all_content(f)\n",
    "del f"
   ]
  },
  {
   "cell_type": "code",
   "execution_count": 189,
   "metadata": {
    "ExecuteTime": {
     "end_time": "2021-09-11T04:11:10.340117Z",
     "start_time": "2021-09-11T04:11:08.423763Z"
    },
    "deletable": false,
    "editable": false
   },
   "outputs": [
    {
     "name": "stdout",
     "output_type": "stream",
     "text": [
      "INFO:  available caption(s):\n",
      "INFO:  #0  ✔ as original code=\"a.en\" name=\"English (auto-generated)\" automatically generated by youtube\n",
      "INFO:  given by --caption_num default to 0 as original\n",
      "INFO:  you may use --caption_num_second intead of --translation to spefify translation transript\n",
      "INFO:  Save to  save_font_tag.txt\n"
     ]
    }
   ],
   "source": [
    "#test_export\n",
    "f = 'save_font_tag.txt'\n",
    "main('tktbVrTFUkc', remove_font_tag=False, output_file=f) # remove font tag\n",
    "del f"
   ]
  },
  {
   "cell_type": "code",
   "execution_count": 205,
   "metadata": {
    "ExecuteTime": {
     "end_time": "2021-09-11T04:11:12.881615Z",
     "start_time": "2021-09-11T04:11:10.342171Z"
    },
    "editable": true,
    "slideshow": {
     "slide_type": ""
    },
    "tags": []
   },
   "outputs": [
    {
     "data": {
      "application/javascript": [
       "IPython.notebook.save_checkpoint();"
      ],
      "text/plain": [
       "<IPython.core.display.Javascript object>"
      ]
     },
     "metadata": {},
     "output_type": "display_data"
    },
    {
     "name": "stdout",
     "output_type": "stream",
     "text": [
      "Converted main.ipynb to ../download_youtube_subtitle/main.py\n",
      "Converted main.ipynb to ../tests/test_main.py\n"
     ]
    },
    {
     "data": {
      "application/javascript": [
       "IPython.notebook.save_checkpoint();"
      ],
      "text/plain": [
       "<IPython.core.display.Javascript object>"
      ]
     },
     "metadata": {},
     "output_type": "display_data"
    }
   ],
   "source": [
    "common.save_and_export_notebook('main')"
   ]
  },
  {
   "cell_type": "code",
   "execution_count": null,
   "metadata": {},
   "outputs": [],
   "source": []
  }
 ],
 "metadata": {
  "kernelspec": {
   "display_name": "Python 3 (ipykernel)",
   "language": "python",
   "name": "python3"
  },
  "language_info": {
   "codemirror_mode": {
    "name": "ipython",
    "version": 3
   },
   "file_extension": ".py",
   "mimetype": "text/x-python",
   "name": "python",
   "nbconvert_exporter": "python",
   "pygments_lexer": "ipython3",
   "version": "3.9.2"
  }
 },
 "nbformat": 4,
 "nbformat_minor": 4
}
