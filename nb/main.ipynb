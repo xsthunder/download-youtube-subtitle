{
 "cells": [
  {
   "cell_type": "code",
   "execution_count": 1,
   "metadata": {
    "ExecuteTime": {
     "end_time": "2021-09-11T04:10:43.457831Z",
     "start_time": "2021-09-11T04:10:43.449021Z"
    }
   },
   "outputs": [],
   "source": [
    "#export\n",
    "import sys\n",
    "if __name__ == '__main__': sys.path.append('..')\n",
    "import download_youtube_subtitle.common as common\n",
    "from pprint import pprint\n",
    "def pj(*args, **kargs):\n",
    "    if common.IN_JUPYTER:\n",
    "        pprint(*args, **kargs)\n",
    "        \n",
    "from functools import partial\n",
    "import sys\n",
    "\n",
    "perr = partial(print, \"ERR: \")"
   ]
  },
  {
   "cell_type": "code",
   "execution_count": 2,
   "metadata": {
    "ExecuteTime": {
     "end_time": "2021-09-11T04:10:43.599940Z",
     "start_time": "2021-09-11T04:10:43.459997Z"
    }
   },
   "outputs": [],
   "source": [
    "#export\n",
    "import requests\n",
    "import socket\n",
    "socket.setdefaulttimeout(5.)"
   ]
  },
  {
   "cell_type": "code",
   "execution_count": 3,
   "metadata": {
    "ExecuteTime": {
     "end_time": "2021-09-11T04:10:43.621484Z",
     "start_time": "2021-09-11T04:10:43.602405Z"
    },
    "scrolled": true
   },
   "outputs": [],
   "source": [
    "#export\n",
    "from pytube.innertube import InnerTube\n",
    "def get_tracks_title(videoID):\n",
    "    innertube = InnerTube()\n",
    "    video_info = innertube.player(videoID)\n",
    "    return video_info[\"captions\"][\"playerCaptionsTracklistRenderer\"][\"captionTracks\"], video_info[\"videoDetails\"][\"title\"] "
   ]
  },
  {
   "cell_type": "code",
   "execution_count": 4,
   "metadata": {
    "ExecuteTime": {
     "end_time": "2021-09-11T04:10:45.063616Z",
     "start_time": "2021-09-11T04:10:43.623454Z"
    },
    "scrolled": false
   },
   "outputs": [
    {
     "name": "stdout",
     "output_type": "stream",
     "text": [
      "Version 1.5 Special Program｜Genshin Impact [{'baseUrl': 'https://www.youtube.com/api/timedtext?v=wgNiGj1nGYE&asr_langs=de,en,es,fr,id,it,ja,ko,nl,pt,ru,tr,vi&caps=asr&exp=xftt,xctw&xoaf=5&hl=en&ip=0.0.0.0&ipbits=0&expire=1631358644&sparams=ip,ipbits,expire,v,asr_langs,caps,exp,xoaf&signature=ED4AEA39C4FA1BD9F3B4079B94D18CA28981D551.B5A147A4A495018453BB5405B0125D4989EE70A6&key=yt8&lang=zh-Hans&fmt=srv3', 'name': {'runs': [{'text': 'Chinese (Simplified)'}]}, 'vssId': '.zh-Hans', 'languageCode': 'zh-Hans', 'isTranslatable': True}, {'baseUrl': 'https://www.youtube.com/api/timedtext?v=wgNiGj1nGYE&asr_langs=de,en,es,fr,id,it,ja,ko,nl,pt,ru,tr,vi&caps=asr&exp=xftt,xctw&xoaf=5&hl=en&ip=0.0.0.0&ipbits=0&expire=1631358644&sparams=ip,ipbits,expire,v,asr_langs,caps,exp,xoaf&signature=ED4AEA39C4FA1BD9F3B4079B94D18CA28981D551.B5A147A4A495018453BB5405B0125D4989EE70A6&key=yt8&lang=zh-Hant&fmt=srv3', 'name': {'runs': [{'text': 'Chinese (Traditional)'}]}, 'vssId': '.zh-Hant', 'languageCode': 'zh-Hant', 'isTranslatable': True}]\n"
     ]
    }
   ],
   "source": [
    "_captions,_title =get_tracks_title(\"wgNiGj1nGYE\")\n",
    "print(_title, _captions[:2])"
   ]
  },
  {
   "cell_type": "code",
   "execution_count": 5,
   "metadata": {
    "ExecuteTime": {
     "end_time": "2021-09-11T04:10:45.069438Z",
     "start_time": "2021-09-11T04:10:45.066561Z"
    }
   },
   "outputs": [],
   "source": [
    "#export\n",
    "# add tlang=zh-Hans to baseUrl\n",
    "# will get translation\n",
    "\n",
    "# getting track info\n",
    "\n",
    "class CaptionNotAvailableException(Exception):\n",
    "    pass \n",
    "import re\n",
    "import json\n",
    "import urllib"
   ]
  },
  {
   "cell_type": "code",
   "execution_count": 6,
   "metadata": {
    "ExecuteTime": {
     "end_time": "2021-09-11T04:10:45.088552Z",
     "start_time": "2021-09-11T04:10:45.071361Z"
    }
   },
   "outputs": [],
   "source": [
    "#export\n",
    "# dealing with transcript\n",
    "import math\n",
    "from functools import partial\n",
    "import sys\n",
    "from xml.dom.minidom import parseString\n",
    "import html\n",
    "def parseTranscript(transcript, remove_font_tag=True):\n",
    "    try:\n",
    "        dom = parseString(transcript.text)\n",
    "    except :\n",
    "        perr(\"check your lang code\")\n",
    "        perr(\"server response\")\n",
    "        perr(transcript.text)\n",
    "        exit(1)\n",
    "    texts = dom.getElementsByTagName('p')\n",
    "    \n",
    "    _eachTxt = partial(eachTxt, remove_font_tag=remove_font_tag)\n",
    "    texts = list(map( _eachTxt, texts,))\n",
    "    return texts \n",
    "\n",
    "def each_sent(o, file=sys.stdout):\n",
    "    if len(o['text'].strip()) == 0 and len(o.get('translate_text', \"\").strip()) == 0:\n",
    "        return\n",
    "    start = o['start']\n",
    "    start = float(start)\n",
    "    start /= 1000\n",
    "    minute = math.floor(start/60)\n",
    "    second = math.floor(start%60)\n",
    "    p = partial(print, file=file)\n",
    "    p(f\"---------{minute:02d}:{second:02d}----------\")\n",
    "    p(o['text'])\n",
    "    translate_text = o.get('translate_text', None)\n",
    "    if translate_text:\n",
    "        p(translate_text)\n",
    "   "
   ]
  },
  {
   "cell_type": "code",
   "execution_count": 7,
   "metadata": {
    "ExecuteTime": {
     "end_time": "2021-09-11T04:10:45.095393Z",
     "start_time": "2021-09-11T04:10:45.090732Z"
    }
   },
   "outputs": [],
   "source": [
    "#export\n",
    "# dealing with valid filename\n",
    "# https://github.com/django/django/blob/master/django/utils/text.py\n",
    "import re\n",
    "def get_valid_filename(s):\n",
    "    \"\"\"\n",
    "    Return the given string converted to a string that can be used for a clean\n",
    "    filename. Remove leading and trailing spaces; convert other spaces to\n",
    "    underscores; and remove anything that is not an alphanumeric, dash,\n",
    "    underscore, or dot.\n",
    "    >>> get_valid_filename(\"john's portrait in 2004.jpg\")\n",
    "    'johns_portrait_in_2004.jpg'\n",
    "    \"\"\"\n",
    "    s = str(s).strip().replace(' ', '_')\n",
    "    return re.sub(r'(?u)[^-\\w.]', '', s)"
   ]
  },
  {
   "cell_type": "code",
   "execution_count": 8,
   "metadata": {
    "ExecuteTime": {
     "end_time": "2021-09-11T04:10:45.112464Z",
     "start_time": "2021-09-11T04:10:45.097621Z"
    }
   },
   "outputs": [],
   "source": [
    "#export\n",
    "import copy\n",
    "def merge_subtitle(subtitle, subtitle_cn):\n",
    "    \"\"\"\n",
    "    merge subtitle_cn(traslation) to subtitle(origin).\n",
    "    cc and translated cc aren't always align, \n",
    "    I found at least in cn and ja, translated cc are less than cc\n",
    "    see  videoID='HSz7Q4YnQ_M'\n",
    "    cc and translated cc aren't always equal in time see wgNiGj1nGYE for translation ja\n",
    "    \"\"\"\n",
    "    subtitle = copy.deepcopy(subtitle) # original transcript\n",
    "    subtitle_cn = copy.deepcopy(subtitle_cn) # translation script\n",
    "    \n",
    "    TRANSLATE_TEXT=\"translate_text\"\n",
    "    TEXT=\"text\"\n",
    "    START=\"start\"\n",
    "    \n",
    "    # NOTE not sure how to merge them properly\n",
    "    \n",
    "    # indexer for subtitle \n",
    "    sub_p = 0\n",
    "    sub_p_cn = 0\n",
    "    \n",
    "    while sub_p < len(subtitle) and sub_p_cn < len(subtitle_cn):\n",
    "        \n",
    "        sub = subtitle[sub_p]\n",
    "        sub_cn = subtitle_cn[sub_p_cn]\n",
    "        \n",
    "        if TRANSLATE_TEXT not in sub: sub[TRANSLATE_TEXT] = \"\"\n",
    "        \n",
    "        if float(sub[START]) >= float(sub_cn[START]) :\n",
    "        # sub goes first, being chased by sub_cn\n",
    "        \n",
    "            # for separating the sentence\n",
    "            if len(sub[TRANSLATE_TEXT]) != 0: sub[TRANSLATE_TEXT] += \"\\n\"\n",
    "            \n",
    "            sub[TRANSLATE_TEXT] +=  sub_cn[TEXT]\n",
    "            \n",
    "            sub_p_cn += 1\n",
    "            \n",
    "        else :\n",
    "            sub_p += 1\n",
    "            \n",
    "    # add empty field for subitle\n",
    "    while sub_p < len(subtitle):\n",
    "        assert sub_p_cn == len(subtitle_cn)\n",
    "        \n",
    "        sub = subtitle[sub_p]\n",
    "        if TRANSLATE_TEXT not in sub: sub[TRANSLATE_TEXT] = \"\"\n",
    "        sub_p += 1\n",
    "        \n",
    "    # add the rest of subtitle_cn to the last one of subtitle\n",
    "    while sub_p_cn < len(subtitle_cn):\n",
    "        assert sub_p == len(subtitle)\n",
    "        \n",
    "        sub = subtitle[-1]\n",
    "        \n",
    "        if TRANSLATE_TEXT not in sub: sub[TRANSLATE_TEXT] = \"\"\n",
    "            \n",
    "        if len(sub[TRANSLATE_TEXT]) != 0: sub[TRANSLATE_TEXT] += \"\\n\"\n",
    "        \n",
    "        sub[TRANSLATE_TEXT] += sub_cn[TEXT]\n",
    "        sub_p_cn += 1\n",
    "        \n",
    "    assert sub_p == len(subtitle)\n",
    "    assert sub_p_cn == len(subtitle_cn)\n",
    "        \n",
    "    return subtitle"
   ]
  },
  {
   "cell_type": "code",
   "execution_count": 9,
   "metadata": {
    "ExecuteTime": {
     "end_time": "2021-09-11T04:10:45.124127Z",
     "start_time": "2021-09-11T04:10:45.114912Z"
    }
   },
   "outputs": [],
   "source": [
    "#export\n",
    "# dealing with xml.dom\n",
    "import re\n",
    "import xml\n",
    "def eachTxt(txt, remove_font_tag):\n",
    "    start = txt.attributes.get(\"t\").value\n",
    "    dur = '0' if txt.attributes.get(\"d\") is None \\\n",
    "        else txt.attributes.get(\"d\").value \n",
    "    if txt.firstChild is None:\n",
    "        txt = \"\"\n",
    "    elif isinstance(txt.firstChild, xml.dom.minidom.Text):\n",
    "        txt = txt.firstChild.data\n",
    "    elif txt.firstChild.tagName == 's':\n",
    "        ret_txt = \"\"\n",
    "        for sTxt in txt.childNodes:\n",
    "            if sTxt.firstChild: ret_txt += sTxt.firstChild.data\n",
    "        txt = ret_txt\n",
    "    \n",
    "    \n",
    "    txt = html.unescape((txt))\n",
    "    if remove_font_tag:\n",
    "        txt =   re.sub(r'</?font[^>]*>','', txt)\n",
    "        \n",
    "    return {\n",
    "        \"start\":start, \n",
    "        \"dur\": dur,\n",
    "        \"text\": txt\n",
    "    }"
   ]
  },
  {
   "cell_type": "code",
   "execution_count": 10,
   "metadata": {
    "ExecuteTime": {
     "end_time": "2021-09-11T04:10:46.402139Z",
     "start_time": "2021-09-11T04:10:45.125940Z"
    }
   },
   "outputs": [
    {
     "name": "stdout",
     "output_type": "stream",
     "text": [
      "<DOM Element: p at 0x7f0930079178> {'start': '140', 'dur': '4570', 'text': 'hi this is Louis from Rossville repair'}\n",
      "<DOM Element: p at 0x7f0930079638> {'start': '2960', 'dur': '1750', 'text': '\\n'}\n",
      "<DOM Element: p at 0x7f09300796d0> {'start': '2970', 'dur': '3869', 'text': 'group in this video in a couple of'}\n",
      "<DOM Element: p at 0x7f0930079c28> {'start': '4700', 'dur': '2139', 'text': '\\n'}\n",
      "<DOM Element: p at 0x7f0930079cc0> {'start': '4710', 'dur': '4469', 'text': \"minutes you're going to watch me as I\"}\n",
      "<DOM Element: p at 0x7f091bfc22a8> {'start': '6829', 'dur': '2350', 'text': '\\n'}\n"
     ]
    }
   ],
   "source": [
    "#test_export\n",
    "# here to check parsing dom\n",
    "videoID=\"SVdQ-2njL6U\" # test [Fix issue where translation is not True by marosoft · Pull Request #3 · xsthunder/download-youtube-subtitle](https://github.com/xsthunder/download-youtube-subtitle/pull/3)\n",
    "captionTracks, title = get_tracks_title(videoID)\n",
    "baseUrl = captionTracks[0]['baseUrl']\n",
    "transcript = requests.get(baseUrl)\n",
    "dom = parseString(transcript.text)\n",
    "texts = dom.getElementsByTagName('p')\n",
    "_eachTxt = partial(eachTxt, remove_font_tag=True)\n",
    "for i,t in enumerate(texts):\n",
    "    if i>5:break\n",
    "    print(t, _eachTxt(t))"
   ]
  },
  {
   "cell_type": "code",
   "execution_count": 11,
   "metadata": {
    "ExecuteTime": {
     "end_time": "2021-09-11T04:10:46.414321Z",
     "start_time": "2021-09-11T04:10:46.404085Z"
    }
   },
   "outputs": [
    {
     "data": {
      "text/plain": [
       "''"
      ]
     },
     "execution_count": 11,
     "metadata": {},
     "output_type": "execute_result"
    }
   ],
   "source": [
    "_eachTxt(texts[1])['text'].strip()"
   ]
  },
  {
   "cell_type": "code",
   "execution_count": 12,
   "metadata": {
    "ExecuteTime": {
     "end_time": "2021-09-11T04:10:46.429415Z",
     "start_time": "2021-09-11T04:10:46.416090Z"
    }
   },
   "outputs": [
    {
     "data": {
      "text/plain": [
       "0"
      ]
     },
     "execution_count": 12,
     "metadata": {},
     "output_type": "execute_result"
    }
   ],
   "source": [
    "o = _eachTxt(texts[1])\n",
    "len(o['text'].strip()) == 0 and len(o.get('translate_text', \"\").strip())"
   ]
  },
  {
   "cell_type": "code",
   "execution_count": 13,
   "metadata": {
    "ExecuteTime": {
     "end_time": "2021-09-11T04:10:46.485164Z",
     "start_time": "2021-09-11T04:10:46.431652Z"
    },
    "scrolled": true
   },
   "outputs": [
    {
     "name": "stdout",
     "output_type": "stream",
     "text": [
      "<?xml version=\"1.0\" ?>\n",
      "<timedtext format=\"3\">\n",
      "\t\n",
      "\n",
      "\t<head>\n",
      "\t\t\n",
      "\n",
      "\t\t<ws id=\"0\"/>\n",
      "\t\t\n",
      "\n",
      "\t\t<ws id=\"1\" ju=\"0\" mh=\"2\" sd=\"3\"/>\n",
      "\t\t\n",
      "\n",
      "\t\t<wp id=\"0\"/>\n",
      "\t\t\n",
      "\n",
      "\t\t<wp ah=\"20\" ap=\"6\" av=\"100\" cc=\"40\" id=\"1\" rc=\"2\"/>\n",
      "\t\t\n",
      "\n",
      "\t</head>\n",
      "\t\n",
      "\n",
      "\t<body>\n",
      "\t\t\n",
      "\n",
      "\t\t<w id=\"1\" t=\"0\" wp=\"1\" ws=\"1\"/>\n",
      "\t\t\n",
      "\n",
      "\t\t<p d=\"4570\" t=\"140\" w=\"1\">\n",
      "\t\t\t<s ac=\"252\">hi</s>\n",
      "\t\t\t<s ac=\"201\" t=\"1000\"> this</s>\n",
      "\t\t\t<s ac=\"201\" t=\"1480\"> is</s>\n",
      "\t\t\t<s ac=\"146\" t=\"1540\"> Louis</s>\n",
      "\t\t\t<s ac=\"245\" t=\"1989\"> from</s>\n",
      "\t\t\t<s ac=\"217\" t=\"2200\"> Rossville</s>\n",
      "\t\t\t<s ac=\"227\" t=\"2410\"> repair</s>\n",
      "\t\t</p>\n",
      "\t\t\n",
      "\n",
      "\t\t<p a=\"1\" d=\"1750\" t=\"2960\" w=\"1\">\n",
      "</p>\n",
      "\t\t\n",
      "\n",
      "\t\t<p d=\"3869\" t=\"2970\" w=\"1\">\n",
      "\t\t\t<s ac=\"239\">group</s>\n",
      "\t\t\t<s ac=\"187\" t=\"179\"> in</s>\n",
      "\t\t\t<s ac=\"252\" t=\"360\"> this</s>\n",
      "\t\t\t<s ac=\"208\" t=\"810\"> video</s>\n",
      "\t\t\t<s ac=\"235\" t=\"1110\"> in</s>\n",
      "\t\t\t<s ac=\"252\" t=\"1349\"> a</s>\n",
      "\t\t\t<s ac=\"157\" t=\"1440\"> couple</s>\n",
      "\t\t\t<s ac=\"252\" t=\"1710\"> of</s>\n",
      "\t\t</p>\n",
      "\t\t\n",
      "\n",
      "\t\t<p a=\"1\" d=\"2139\" t=\"4700\" w=\"1\">\n",
      "</p>\n",
      "\t\t\n",
      "\n",
      "\t\t<p d=\"4469\" t=\"4710\" w=\"1\">\n",
      "\t\t\t<s ac=\"236\">minutes</s>\n",
      "\t\t\t<s ac=\"252\" t=\"270\"> you\n"
     ]
    }
   ],
   "source": [
    "print(dom.toprettyxml()[:1000])"
   ]
  },
  {
   "cell_type": "code",
   "execution_count": 14,
   "metadata": {
    "ExecuteTime": {
     "end_time": "2021-09-11T04:10:48.720832Z",
     "start_time": "2021-09-11T04:10:46.487098Z"
    }
   },
   "outputs": [
    {
     "data": {
      "text/plain": [
       "[{'start': '0',\n",
       "  'dur': '5056',\n",
       "  'text': '从前，有一对双胞胎结伴在宇宙中旅行',\n",
       "  'translate_text': '昔々、宇宙を一緒に旅している双子のペアがいました'},\n",
       " {'start': '5398',\n",
       "  'dur': '2398',\n",
       "  'text': '但有一天，他们前路遇阻',\n",
       "  'translate_text': 'しかしある日、彼らの道は封鎖されました'},\n",
       " {'start': '7988',\n",
       "  'dur': '2801',\n",
       "  'text': '被一个未知的神明生生分离',\n",
       "  'translate_text': '未知の神によって隔てられている'},\n",
       " {'start': '11745', 'dur': '804', 'text': '空！', 'translate_text': 'ヌル！'}]"
      ]
     },
     "execution_count": 14,
     "metadata": {},
     "output_type": "execute_result"
    }
   ],
   "source": [
    "#test_export\n",
    "#here to break up the procss\n",
    "# videoID=\"Zd14s2WW-Tc\"\n",
    "videoID=\"wgNiGj1nGYE\"\n",
    "captionTracks, title = get_tracks_title(videoID)\n",
    "baseUrl = captionTracks[0]['baseUrl']\n",
    "transcript = requests.get(baseUrl)\n",
    "subtitle = parseTranscript(transcript)\n",
    "baseUrl = captionTracks[0]['baseUrl'] + '&tlang=ja'\n",
    "transcript = requests.get(baseUrl)\n",
    "subtitle_cn = parseTranscript(transcript)\n",
    "merged_subtitle = merge_subtitle(subtitle, subtitle_cn)\n",
    "merged_subtitle[:4]"
   ]
  },
  {
   "cell_type": "code",
   "execution_count": 15,
   "metadata": {
    "ExecuteTime": {
     "end_time": "2021-09-11T04:10:48.727081Z",
     "start_time": "2021-09-11T04:10:48.723429Z"
    }
   },
   "outputs": [
    {
     "name": "stdout",
     "output_type": "stream",
     "text": [
      "<?xml version=\"1.0\" encoding=\"utf-8\" ?><timedtext format=\"3\">\n",
      "<body>\n",
      "<p t=\"0\" d=\"5056\">昔々、宇宙を一緒に旅している双子のペアがいました</p>\n",
      "<p t=\"5398\" d=\"2398\">しかしある日、彼らの道は封鎖されました</p>\n",
      "<p t=\"7988\" d=\"2801\">未知の神によって隔てられている</p>\n",
      "<p t=\"11745\" d=\"804\">ヌル！</p>\n",
      "<p t=\"12971\" d=\"882\">蛍光！</p>\n",
      "<p t=\"14404\" d=\"3046\">そして今、2つはついに再会しました...</p>\n",
      "<p t=\"17872\" d=\"4474\">元神バージョン1.5の特別プログラムで！</p>\n",
      "<p t=\"22400\" d=\"2905\">はい！ハハ……</p>\n",
      "<p t=\"25305\" d=\"1920\">みなさん、ようこそ！私はザック・アギラールです</p>\n",
      "<p t=\"27225\" d=\"3254\">元の神の男性旅行者のための空の声</p>\n",
      "<p t=\"30682\" d=\"2296\">みなさん、こんにちは。サラミラークルーズです。</p>\n",
      "<p t=\"32978\" d=\"2312\">私は女性旅行者のインを吹き替えました。</p>\n",
      "<p t=\"35784\" d=\"2216\">このショーに一緒に参加できるのは素晴らしいことです</p>\n",
      "<p t=\"38000\" d=\"4083\">特に私たちのキャラクターがバージョン1.4でようやく出会ったからです</p>\n",
      "<p t=\"42178\" d=\"1722\">はい</p>\n",
      "<p t=\"43900\" d=\"2712\">彼らが私をこのショーに招待してくれてうれしい</p>\n",
      "<p t=\"46688\" d=\"3216\">私はいつも特別なプログラムがどのように見えるかについて興味がありました</p>\n",
      "<p t=\"49971\" d=\"3815\">あなたとコリーナは前のショーでとても幸せでした</p>\n",
      "<p t=\"53939\" d=\"3006\">ねえ、これがスペシャルショーの本質です！</p>\n",
      "<p t=\"57136\" d=\"3387\">もちろん、今日も例外はありません。</p>\n",
      "<p t=\"60599\" d=\"1265\">キースシルバー\n"
     ]
    }
   ],
   "source": [
    "print(transcript.text[:1000])"
   ]
  },
  {
   "cell_type": "code",
   "execution_count": 16,
   "metadata": {
    "ExecuteTime": {
     "end_time": "2021-09-11T04:10:48.741815Z",
     "start_time": "2021-09-11T04:10:48.728945Z"
    }
   },
   "outputs": [],
   "source": [
    "#export\n",
    "def format_caption(caption):\n",
    "    ret = f\"{caption['vssId']:8s} {caption['name']['runs'][0]['text']}\"\n",
    "    if 'a.' in caption['vssId']:\n",
    "        ret += ' automatically generated by youtube'\n",
    "    return ret"
   ]
  },
  {
   "cell_type": "code",
   "execution_count": 17,
   "metadata": {
    "ExecuteTime": {
     "end_time": "2021-09-11T04:10:48.754983Z",
     "start_time": "2021-09-11T04:10:48.743941Z"
    }
   },
   "outputs": [
    {
     "name": "stdout",
     "output_type": "stream",
     "text": [
      "{'runs': [{'text': 'Chinese (Traditional)'}]}\n"
     ]
    },
    {
     "data": {
      "text/plain": [
       "'.zh-Hant Chinese (Traditional)'"
      ]
     },
     "execution_count": 17,
     "metadata": {},
     "output_type": "execute_result"
    }
   ],
   "source": [
    "print(captionTracks[1]['name'])\n",
    "format_caption(captionTracks[1])"
   ]
  },
  {
   "cell_type": "code",
   "execution_count": 18,
   "metadata": {
    "ExecuteTime": {
     "end_time": "2021-09-11T04:10:48.777305Z",
     "start_time": "2021-09-11T04:10:48.757528Z"
    }
   },
   "outputs": [
    {
     "name": "stdout",
     "output_type": "stream",
     "text": [
      "save to  Version_1.5_Special_ProgramGenshin_Impact.txt\n"
     ]
    }
   ],
   "source": [
    "#test_export\n",
    "#here test output\n",
    "output_file = get_valid_filename(f'{title}.txt')\n",
    "with open(output_file , 'w', encoding='UTF-8') as f:\n",
    "    print(\"save to \", output_file)\n",
    "    for sent in subtitle:\n",
    "        each_sent(sent, file=f)"
   ]
  },
  {
   "cell_type": "code",
   "execution_count": null,
   "metadata": {
    "ExecuteTime": {
     "end_time": "2021-09-11T03:41:15.852322Z",
     "start_time": "2021-09-11T03:41:15.840940Z"
    }
   },
   "outputs": [],
   "source": []
  },
  {
   "cell_type": "code",
   "execution_count": 19,
   "metadata": {
    "ExecuteTime": {
     "end_time": "2021-09-11T04:10:48.785533Z",
     "start_time": "2021-09-11T04:10:48.780686Z"
    }
   },
   "outputs": [],
   "source": [
    "#export\n",
    "def parseVideoID(videoID):\n",
    "    if 'youtu' in videoID:\n",
    "        videoID = re.search('v=([^&]+)', videoID).group(1)\n",
    "        \n",
    "    video_link = f'https://www.youtube.com/watch?v={videoID}'\n",
    "    return videoID, video_link"
   ]
  },
  {
   "cell_type": "code",
   "execution_count": 20,
   "metadata": {
    "ExecuteTime": {
     "end_time": "2021-09-11T04:10:48.795416Z",
     "start_time": "2021-09-11T04:10:48.788954Z"
    }
   },
   "outputs": [],
   "source": [
    "#test_export\n",
    "videoID = 'https://www.youtube.com/watch?v=wgNiGj1nGYE'\n",
    "videoID, video_link= parseVideoID(videoID)\n",
    "videoID = 'wgNiGj1nGYE'\n",
    "assert (videoID, video_link) == parseVideoID(videoID)"
   ]
  },
  {
   "cell_type": "code",
   "execution_count": 21,
   "metadata": {
    "ExecuteTime": {
     "end_time": "2021-09-11T04:10:48.824853Z",
     "start_time": "2021-09-11T04:10:48.797595Z"
    }
   },
   "outputs": [],
   "source": [
    "#export\n",
    "import fire\n",
    "import sys\n",
    "from functools import partial\n",
    "import json\n",
    "import re\n",
    "from typing import Union, Optional\n",
    "def main(\n",
    "    videoID:str, \n",
    "    translation:Union[str,bool]='zh-Hans', \n",
    "    caption_num:int=0, \n",
    "    caption_num_second:int=None,\n",
    "    output_file:str=None, \n",
    "    save_to_file:bool=True, \n",
    "    to_json:bool=False, \n",
    "    remove_font_tag:bool=True, \n",
    "    ):\n",
    "    \"\"\"\n",
    "    download youtube closed caption(subtitles) by videoID\n",
    "    \n",
    "    Examples:\n",
    "    dl-youtube-cc -h # to see this helpful infomation\n",
    "    dl-youtube-cc wgNiGj1nGYE --translation 'ja' # use japanese translation, see ./lang_code for full list\n",
    "    dl-youtube-cc wgNiGj1nGYE --caption_num=1 --translation 'ja' # choose the caption num for original transcript and use japanese translation,\n",
    "    dl-youtube-cc wgNiGj1nGYE --caption_num=1 --caption_num_second=2 # manually choose the original and translation transcript from available caption list\n",
    "    dl-youtube-cc wgNiGj1nGYE --translation False # without translation\n",
    "    dl-youtube-cc wgNiGj1nGYE --save_to_file=False # print stuff in console\n",
    "    dl-youtube-cc wgNiGj1nGYE --output_file='test.txt' # print stuff in named file\n",
    "    dl-youtube-cc wgNiGj1nGYE --to_json=True # print stuff in json\n",
    "    \n",
    "    Argument:\n",
    "    videoID : the video link or the id of youtube video, the string after 'v=' in a youtube video link\n",
    "    translation : which will be displayed as original transcript, default to 'zh-Hans' for simplified Chinese, see ./lang_code.json for full list, or pass False to disable translation\n",
    "    caption_num : choose the caption which will be displayed as original transcript\n",
    "    caption_num_second : will surpass translation option, choose the caption which will be displayed as translation transcript\n",
    "    output_file : default to video title\n",
    "    save_to_file : pass False to print in console\n",
    "    to_json: pass True to export caption to json\n",
    "    remove_font_tag: remove font tag\n",
    "    \"\"\"    \n",
    "    videoID, video_link, = parseVideoID(videoID)\n",
    "    captionTracks, title = None, None\n",
    "    try:\n",
    "        captionTracks, title = get_tracks_title(videoID)\n",
    "    except: \n",
    "        perr(\"can't not retrive caption, \", \" for detail\")\n",
    "        raise \n",
    "        \n",
    "    \n",
    "    info = partial(print, \"INFO: \")\n",
    "    \n",
    "    info(\"available caption(s):\")\n",
    "    for i, caption in enumerate(captionTracks):\n",
    "        mark = '⭕'\n",
    "        if caption_num == i:mark = '✔ as original'\n",
    "        if caption_num_second == i: mark = '✔ as translation' \n",
    "        notice = f\"#{i:<2} {mark}\"\n",
    "        info(notice, format_caption(caption))\n",
    "    info(\"given by --caption_num default to 0 as original\")\n",
    "    if caption_num_second is None: info(\"you may use --caption_num_second intead of --translation to spefify translation transript\")\n",
    "    get_caption_url = lambda i:captionTracks[i][\"baseUrl\"]\n",
    "    \n",
    "    # as original caption\n",
    "    caption = captionTracks[caption_num]\n",
    "    baseUrl = caption['baseUrl']\n",
    "    transcript = requests.get(baseUrl)\n",
    "#     info('using',f\"{caption_num}.\", format_caption(caption))\n",
    "    \n",
    "    _parseTranscript = partial(parseTranscript, remove_font_tag=remove_font_tag)\n",
    "    subtitle = _parseTranscript(transcript, )\n",
    "    sent_subtitle = subtitle\n",
    "    \n",
    "    output_json = { \"original\": subtitle }\n",
    "    \n",
    "    if translation or caption_num_second:\n",
    "        if translation: baseUrl = caption['baseUrl'] + '&tlang=' + translation\n",
    "        if caption_num_second: \n",
    "            translation = False\n",
    "            baseUrl = get_caption_url(caption_num_second)\n",
    "        transcript = requests.get(baseUrl)\n",
    "        subtitle_cn = _parseTranscript(transcript)\n",
    "        merged_subtitle = merge_subtitle(subtitle, subtitle_cn)\n",
    "        sent_subtitle = merged_subtitle\n",
    "        output_json = {\n",
    "                 \"original\": subtitle,\n",
    "                 \"translation\":subtitle_cn,\n",
    "                # note that it's not guaranteed to be aligned.\n",
    "                \"merged\": merged_subtitle,\n",
    "            }\n",
    "        \n",
    "    ######################## save to file\n",
    "            \n",
    "    f = sys.stdout\n",
    "    if save_to_file :\n",
    "        if output_file is None: \n",
    "            if to_json:\n",
    "                output_file = get_valid_filename(f'{title}.json')\n",
    "            else:\n",
    "                output_file = get_valid_filename(f'{title}.txt')\n",
    "        f = open(output_file , 'w', encoding='UTF-8')\n",
    "        info(\"Save to \", output_file )\n",
    "    \n",
    "    if to_json:\n",
    "        json.dump(\n",
    "            output_json\n",
    "             , f, indent=4, ensure_ascii=False)\n",
    "        return \n",
    "    \n",
    "    pfile = partial(print, file=f)\n",
    "    pfile(\"video_link\\t\", video_link)\n",
    "    pfile(\"original\\t\", format_caption(captionTracks[caption_num]))\n",
    "    if translation: pfile(\"translation\\t\",translation)\n",
    "    if caption_num_second: pfile(\"translation\\t\", format_caption(captionTracks[caption_num_second]))\n",
    "    for sent in sent_subtitle:\n",
    "        each_sent(sent, file=f)\n",
    "        pfile()"
   ]
  },
  {
   "cell_type": "code",
   "execution_count": 22,
   "metadata": {
    "ExecuteTime": {
     "end_time": "2021-09-11T04:10:48.829935Z",
     "start_time": "2021-09-11T04:10:48.826526Z"
    }
   },
   "outputs": [],
   "source": [
    "#export\n",
    "from functools import partial\n",
    "def set_fire(fn):\n",
    "    if common.IN_TRAVIS or common.IN_JUPYTER:\n",
    "        return \n",
    "    fire.Fire(fn)\n",
    "if __name__ == '__main__':\n",
    "    if common.IN_TRAVIS or common.IN_JUPYTER:\n",
    "        pass\n",
    "    else :\n",
    "        set_fire(main)\n",
    "fire_main = partial(set_fire, main)"
   ]
  },
  {
   "cell_type": "code",
   "execution_count": 23,
   "metadata": {
    "ExecuteTime": {
     "end_time": "2021-09-11T04:10:50.128428Z",
     "start_time": "2021-09-11T04:10:48.831831Z"
    }
   },
   "outputs": [
    {
     "name": "stdout",
     "output_type": "stream",
     "text": [
      "INFO:  available caption(s):\n",
      "INFO:  #0  ✔ as original a.en     English (auto-generated) automatically generated by youtube\n",
      "INFO:  given by --caption_num default to 0 as original\n",
      "INFO:  you may use --caption_num_second intead of --translation to spefify translation transript\n",
      "INFO:  Save to  a.txt\n"
     ]
    }
   ],
   "source": [
    "#test_export\n",
    "# see [Fix issue where translation is not True by marosoft · Pull Request #3 · xsthunder/download-youtube-subtitle](https://github.com/xsthunder/download-youtube-subtitle/pull/3)\n",
    "main(\"SVdQ-2njL6U\", translation=False, output_file=f'a.txt')"
   ]
  },
  {
   "cell_type": "code",
   "execution_count": 24,
   "metadata": {
    "ExecuteTime": {
     "end_time": "2021-09-11T04:10:52.042376Z",
     "start_time": "2021-09-11T04:10:50.130519Z"
    }
   },
   "outputs": [
    {
     "name": "stdout",
     "output_type": "stream",
     "text": [
      "INFO:  available caption(s):\n",
      "INFO:  #0  ✔ as original .zh-Hans Chinese (Simplified)\n",
      "INFO:  #1  ⭕ .zh-Hant Chinese (Traditional)\n",
      "INFO:  #2  ⭕ .en-US   English (United States)\n",
      "INFO:  #3  ⭕ .fr      French\n",
      "INFO:  #4  ⭕ .de      German\n",
      "INFO:  #5  ⭕ .id      Indonesian\n",
      "INFO:  #6  ⭕ .pt      Portuguese\n",
      "INFO:  #7  ⭕ .ru      Russian\n",
      "INFO:  #8  ⭕ .es      Spanish\n",
      "INFO:  #9  ⭕ .th      Thai\n",
      "INFO:  #10 ⭕ .vi      Vietnamese\n",
      "INFO:  given by --caption_num default to 0 as original\n",
      "INFO:  you may use --caption_num_second intead of --translation to spefify translation transript\n",
      "INFO:  Save to  Version_1.5_Special_ProgramGenshin_Impact.txt\n"
     ]
    }
   ],
   "source": [
    "#test_export\n",
    "main(\"wgNiGj1nGYE\", translation='ja')"
   ]
  },
  {
   "cell_type": "code",
   "execution_count": 25,
   "metadata": {
    "ExecuteTime": {
     "end_time": "2021-09-11T04:10:52.047943Z",
     "start_time": "2021-09-11T04:10:52.044657Z"
    }
   },
   "outputs": [
    {
     "name": "stdout",
     "output_type": "stream",
     "text": [
      "2  1\n"
     ]
    }
   ],
   "source": [
    "print(f\"{2:<2}\", 1)"
   ]
  },
  {
   "cell_type": "code",
   "execution_count": 26,
   "metadata": {
    "ExecuteTime": {
     "end_time": "2021-09-11T04:10:53.776593Z",
     "start_time": "2021-09-11T04:10:52.050216Z"
    }
   },
   "outputs": [
    {
     "name": "stdout",
     "output_type": "stream",
     "text": [
      "INFO:  available caption(s):\n",
      "INFO:  #0  ✔ as translation .zh-Hans Chinese (Simplified)\n",
      "INFO:  #1  ⭕ .zh-Hant Chinese (Traditional)\n",
      "INFO:  #2  ⭕ .en-US   English (United States)\n",
      "INFO:  #3  ⭕ .fr      French\n",
      "INFO:  #4  ⭕ .de      German\n",
      "INFO:  #5  ⭕ .id      Indonesian\n",
      "INFO:  #6  ✔ as original .pt      Portuguese\n",
      "INFO:  #7  ⭕ .ru      Russian\n",
      "INFO:  #8  ⭕ .es      Spanish\n",
      "INFO:  #9  ⭕ .th      Thai\n",
      "INFO:  #10 ⭕ .vi      Vietnamese\n",
      "INFO:  given by --caption_num default to 0 as original\n",
      "INFO:  Save to  Version_1.5_Special_ProgramGenshin_Impact.txt\n"
     ]
    }
   ],
   "source": [
    "#test_export\n",
    "main(\"wgNiGj1nGYE\", caption_num=6, caption_num_second=0)"
   ]
  },
  {
   "cell_type": "code",
   "execution_count": 27,
   "metadata": {
    "ExecuteTime": {
     "end_time": "2021-09-11T04:10:55.461393Z",
     "start_time": "2021-09-11T04:10:53.779029Z"
    }
   },
   "outputs": [
    {
     "name": "stdout",
     "output_type": "stream",
     "text": [
      "INFO:  available caption(s):\n",
      "INFO:  #0  ✔ as original .zh-Hans Chinese (Simplified)\n",
      "INFO:  #1  ⭕ .zh-Hant Chinese (Traditional)\n",
      "INFO:  #2  ⭕ .en-US   English (United States)\n",
      "INFO:  #3  ✔ as translation .fr      French\n",
      "INFO:  #4  ⭕ .de      German\n",
      "INFO:  #5  ⭕ .id      Indonesian\n",
      "INFO:  #6  ⭕ .pt      Portuguese\n",
      "INFO:  #7  ⭕ .ru      Russian\n",
      "INFO:  #8  ⭕ .es      Spanish\n",
      "INFO:  #9  ⭕ .th      Thai\n",
      "INFO:  #10 ⭕ .vi      Vietnamese\n",
      "INFO:  given by --caption_num default to 0 as original\n",
      "INFO:  Save to  0,3-zh,es.txt\n"
     ]
    }
   ],
   "source": [
    "#test_export\n",
    "main(\"wgNiGj1nGYE\", caption_num=0, caption_num_second=3, output_file=\"0,3-zh,es.txt\")"
   ]
  },
  {
   "cell_type": "code",
   "execution_count": 28,
   "metadata": {
    "ExecuteTime": {
     "end_time": "2021-09-11T04:10:57.673518Z",
     "start_time": "2021-09-11T04:10:55.463796Z"
    }
   },
   "outputs": [
    {
     "name": "stdout",
     "output_type": "stream",
     "text": [
      "INFO:  available caption(s):\n",
      "INFO:  #0  ⭕ .zh-Hans Chinese (Simplified)\n",
      "INFO:  #1  ⭕ .zh-Hant Chinese (Traditional)\n",
      "INFO:  #2  ⭕ .en-US   English (United States)\n",
      "INFO:  #3  ⭕ .fr      French\n",
      "INFO:  #4  ⭕ .de      German\n",
      "INFO:  #5  ⭕ .id      Indonesian\n",
      "INFO:  #6  ✔ as original .pt      Portuguese\n",
      "INFO:  #7  ⭕ .ru      Russian\n",
      "INFO:  #8  ⭕ .es      Spanish\n",
      "INFO:  #9  ⭕ .th      Thai\n",
      "INFO:  #10 ⭕ .vi      Vietnamese\n",
      "INFO:  given by --caption_num default to 0 as original\n",
      "INFO:  you may use --caption_num_second intead of --translation to spefify translation transript\n",
      "INFO:  Save to  Version_1.5_Special_ProgramGenshin_Impact.json\n"
     ]
    }
   ],
   "source": [
    "#test_export\n",
    "main(\"wgNiGj1nGYE\", caption_num=6, translation=\"ja\", to_json=True)"
   ]
  },
  {
   "cell_type": "code",
   "execution_count": 29,
   "metadata": {
    "ExecuteTime": {
     "end_time": "2021-09-11T04:10:59.757236Z",
     "start_time": "2021-09-11T04:10:57.675837Z"
    },
    "scrolled": true
   },
   "outputs": [
    {
     "name": "stdout",
     "output_type": "stream",
     "text": [
      "INFO:  available caption(s):\n",
      "INFO:  #0  ⭕ a.en     English (auto-generated) automatically generated by youtube\n",
      "INFO:  #1  ✔ as original .en.j3PyPqV-e1s English - CC (English)\n",
      "INFO:  given by --caption_num default to 0 as original\n",
      "INFO:  you may use --caption_num_second intead of --translation to spefify translation transript\n",
      "INFO:  Save to  Chinese_Politics__Authoritarian_Regimes__Professor_Rory_Truex__Talks_at_Google.txt\n"
     ]
    }
   ],
   "source": [
    "#test_export\n",
    "#fix eachTxt, allow txt.firstChild = None\n",
    "main('https://www.youtube.com/watch?v=Zd14s2WW-Tc', caption_num=1)"
   ]
  },
  {
   "cell_type": "code",
   "execution_count": 30,
   "metadata": {
    "ExecuteTime": {
     "end_time": "2021-09-11T04:11:01.362870Z",
     "start_time": "2021-09-11T04:10:59.759392Z"
    }
   },
   "outputs": [
    {
     "name": "stdout",
     "output_type": "stream",
     "text": [
      "INFO:  available caption(s):\n",
      "INFO:  #0  ⭕ a.en     English (auto-generated) automatically generated by youtube\n",
      "INFO:  #1  ✔ as original .en-US   English (United States)\n",
      "INFO:  given by --caption_num default to 0 as original\n",
      "INFO:  you may use --caption_num_second intead of --translation to spefify translation transript\n",
      "INFO:  Save to  Quarantine_Dispatch_Trump_Gets_Serious__NYC_Shuts_Down__The_Daily_Show.txt\n"
     ]
    }
   ],
   "source": [
    "#test_export\n",
    "import sure\n",
    "main('https://www.youtube.com/watch?v=EozTm6ZVf1U', caption_num=1)"
   ]
  },
  {
   "cell_type": "code",
   "execution_count": 31,
   "metadata": {
    "ExecuteTime": {
     "end_time": "2021-09-11T04:11:02.985748Z",
     "start_time": "2021-09-11T04:11:01.365524Z"
    }
   },
   "outputs": [
    {
     "name": "stdout",
     "output_type": "stream",
     "text": [
      "INFO:  available caption(s):\n",
      "INFO:  #0  ⭕ a.en     English (auto-generated) automatically generated by youtube\n",
      "INFO:  #1  ✔ as original .en-US   English (United States)\n",
      "INFO:  given by --caption_num default to 0 as original\n",
      "INFO:  you may use --caption_num_second intead of --translation to spefify translation transript\n",
      "INFO:  Save to  Quarantine_Dispatch_Trump_Gets_Serious__NYC_Shuts_Down__The_Daily_Show.txt\n"
     ]
    }
   ],
   "source": [
    "#test_export\n",
    "main('https://www.youtube.com/watch?v=EozTm6ZVf1U', caption_num=1)"
   ]
  },
  {
   "cell_type": "code",
   "execution_count": 32,
   "metadata": {
    "ExecuteTime": {
     "end_time": "2021-09-11T04:11:04.631135Z",
     "start_time": "2021-09-11T04:11:02.987807Z"
    },
    "deletable": false,
    "editable": false
   },
   "outputs": [
    {
     "name": "stdout",
     "output_type": "stream",
     "text": [
      "INFO:  available caption(s):\n",
      "INFO:  #0  ✔ as original .en      English\n",
      "INFO:  #1  ⭕ a.en     English (auto-generated) automatically generated by youtube\n",
      "INFO:  given by --caption_num default to 0 as original\n",
      "INFO:  you may use --caption_num_second intead of --translation to spefify translation transript\n",
      "INFO:  Save to  Dont_Lose_Your_Accent__Learning_Accents_-_TREVOR_NOAH_Pay_Back_The_Funny.txt\n"
     ]
    }
   ],
   "source": [
    "#test_export\n",
    "main('MhCEdIqFCck') # fix title with quotes \""
   ]
  },
  {
   "cell_type": "code",
   "execution_count": 33,
   "metadata": {
    "ExecuteTime": {
     "end_time": "2021-09-11T04:11:06.448089Z",
     "start_time": "2021-09-11T04:11:04.633238Z"
    },
    "deletable": false,
    "editable": false
   },
   "outputs": [
    {
     "name": "stdout",
     "output_type": "stream",
     "text": [
      "INFO:  available caption(s):\n",
      "INFO:  #0  ✔ as original a.en     English (auto-generated) automatically generated by youtube\n",
      "INFO:  given by --caption_num default to 0 as original\n",
      "INFO:  you may use --caption_num_second intead of --translation to spefify translation transript\n",
      "INFO:  Save to  Silent_Voice_Koe_no_Katachi_Yamada_and_the_Unspoken.txt\n"
     ]
    }
   ],
   "source": [
    "#test_export\n",
    "main('HSz7Q4YnQ_M') # fix when cc's length and translated cc's don't match"
   ]
  },
  {
   "cell_type": "code",
   "execution_count": 34,
   "metadata": {
    "ExecuteTime": {
     "end_time": "2021-09-11T04:11:06.453680Z",
     "start_time": "2021-09-11T04:11:06.450579Z"
    }
   },
   "outputs": [],
   "source": [
    "#test_export\n",
    "def read_all_content(f):\n",
    "    with open(f, 'r', encoding='UTF-8') as f:\n",
    "        ret = ''.join(f.readlines())\n",
    "    return ret"
   ]
  },
  {
   "cell_type": "code",
   "execution_count": 35,
   "metadata": {
    "ExecuteTime": {
     "end_time": "2021-09-11T04:11:08.421517Z",
     "start_time": "2021-09-11T04:11:06.455635Z"
    },
    "deletable": false,
    "editable": false
   },
   "outputs": [
    {
     "name": "stdout",
     "output_type": "stream",
     "text": [
      "INFO:  available caption(s):\n",
      "INFO:  #0  ✔ as original a.en     English (auto-generated) automatically generated by youtube\n",
      "INFO:  given by --caption_num default to 0 as original\n",
      "INFO:  you may use --caption_num_second intead of --translation to spefify translation transript\n",
      "INFO:  Save to  no_font_tag.txt\n"
     ]
    }
   ],
   "source": [
    "#test_export\n",
    "f = 'no_font_tag.txt'\n",
    "main('tktbVrTFUkc', output_file=f) # remove font tag\n",
    "assert '<font' not in read_all_content(f)\n",
    "assert '</font>' not in read_all_content(f)\n",
    "del f"
   ]
  },
  {
   "cell_type": "code",
   "execution_count": 36,
   "metadata": {
    "ExecuteTime": {
     "end_time": "2021-09-11T04:11:10.340117Z",
     "start_time": "2021-09-11T04:11:08.423763Z"
    },
    "deletable": false,
    "editable": false
   },
   "outputs": [
    {
     "name": "stdout",
     "output_type": "stream",
     "text": [
      "INFO:  available caption(s):\n",
      "INFO:  #0  ✔ as original a.en     English (auto-generated) automatically generated by youtube\n",
      "INFO:  given by --caption_num default to 0 as original\n",
      "INFO:  you may use --caption_num_second intead of --translation to spefify translation transript\n",
      "INFO:  Save to  save_font_tag.txt\n"
     ]
    }
   ],
   "source": [
    "#test_export\n",
    "f = 'save_font_tag.txt'\n",
    "main('tktbVrTFUkc', remove_font_tag=False, output_file=f) # remove font tag\n",
    "del f"
   ]
  },
  {
   "cell_type": "code",
   "execution_count": 37,
   "metadata": {
    "ExecuteTime": {
     "end_time": "2021-09-11T04:11:12.881615Z",
     "start_time": "2021-09-11T04:11:10.342171Z"
    }
   },
   "outputs": [
    {
     "data": {
      "application/javascript": [
       "IPython.notebook.save_checkpoint();"
      ],
      "text/plain": [
       "<IPython.core.display.Javascript object>"
      ]
     },
     "metadata": {},
     "output_type": "display_data"
    },
    {
     "name": "stdout",
     "output_type": "stream",
     "text": [
      "Converted main.ipynb to ../download_youtube_subtitle/main.py\n",
      "Converted main.ipynb to ../tests/test_main.py\n"
     ]
    },
    {
     "data": {
      "application/javascript": [
       "IPython.notebook.save_checkpoint();"
      ],
      "text/plain": [
       "<IPython.core.display.Javascript object>"
      ]
     },
     "metadata": {},
     "output_type": "display_data"
    }
   ],
   "source": [
    "common.save_and_export_notebook('main')"
   ]
  },
  {
   "cell_type": "code",
   "execution_count": null,
   "metadata": {},
   "outputs": [],
   "source": []
  }
 ],
 "metadata": {
  "kernelspec": {
   "display_name": "Python 3",
   "language": "python",
   "name": "python3"
  },
  "language_info": {
   "codemirror_mode": {
    "name": "ipython",
    "version": 3
   },
   "file_extension": ".py",
   "mimetype": "text/x-python",
   "name": "python",
   "nbconvert_exporter": "python",
   "pygments_lexer": "ipython3",
   "version": "3.6.5"
  }
 },
 "nbformat": 4,
 "nbformat_minor": 2
}
